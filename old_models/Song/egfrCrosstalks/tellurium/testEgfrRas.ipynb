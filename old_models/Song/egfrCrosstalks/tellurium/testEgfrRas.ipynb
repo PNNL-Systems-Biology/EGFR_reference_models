{
 "cells": [
  {
   "cell_type": "code",
   "execution_count": 1,
   "metadata": {},
   "outputs": [],
   "source": [
    "from pysb import * # Model, Monomer, Parameter, Initial, Rule, Observable\n",
    "from pysb.macros import *\n",
    "\n",
    "%matplotlib inline\n",
    "from pysb.integrate import odesolve\n",
    "import matplotlib.pyplot as plt\n",
    "import numpy as np"
   ]
  },
  {
   "cell_type": "code",
   "execution_count": null,
   "metadata": {},
   "outputs": [],
   "source": [
    "Model()\n",
    "Monomer('EGFR', ['Y1068'], {'Y1068': ['u', 'p']})\n",
    "Monomer('Ras', [])\n",
    "Monomer('GAP', ['bd', 'b', 'bgrb2'])\n",
    "Monomer('SHC', ['bgap', 'bgrb', 'batp', 'st'], {'st':['U','P']})\n",
    "# Monomer('SHCPase', ['b'])\n",
    "Monomer('GRB2', ['b', 'bsos', 'bgap', 'bgab1', 'bcpp'])\n",
    "Monomer('SOS1', ['bgrb', 'bras', 'bERKPP', 'st'], {'st':['U', 'P']})\n",
    "Monomer('SOS2', ['bgrb', 'bras', 'bERKPP', 'st'], {'st':['U', 'P']})\n",
    "Monomer('RAS', ['bsos', 'braf', 'bpi3k', 'st', 'act'], {'st':['GDP', 'GTP'], 'act':['N', 'Y']})\n"
   ]
  }
 ],
 "metadata": {
  "kernelspec": {
   "display_name": "Python 3",
   "language": "python",
   "name": "python3"
  },
  "language_info": {
   "codemirror_mode": {
    "name": "ipython",
    "version": 3
   },
   "file_extension": ".py",
   "mimetype": "text/x-python",
   "name": "python",
   "nbconvert_exporter": "python",
   "pygments_lexer": "ipython3",
   "version": "3.7.9"
  }
 },
 "nbformat": 4,
 "nbformat_minor": 4
}
