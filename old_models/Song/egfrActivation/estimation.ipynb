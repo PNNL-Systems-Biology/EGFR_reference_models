{
 "cells": [
  {
   "cell_type": "code",
   "execution_count": null,
   "metadata": {},
   "outputs": [],
   "source": [
    "import os\n",
    "import sys\n",
    "import matplotlib.pyplot as plt\n",
    "\n",
    "import random\n",
    "import numpy as np\n",
    "import scipy as sp\n",
    "import pandas as pd\n",
    "import seaborn as sn\n",
    "import ray#, psutil\n",
    "\n",
    "import tellurium as te"
   ]
  },
  {
   "cell_type": "code",
   "execution_count": null,
   "metadata": {},
   "outputs": [],
   "source": [
    "with open(\"egfrActivation.sb\") as f:\n",
    "    egfrActivationModel = f.read()\n",
    "\n",
    "model = te.loada(egfrActivationModel)\n",
    "species = model.getFloatingSpeciesIds()\n",
    "#model.reset()"
   ]
  },
  {
   "cell_type": "code",
   "execution_count": null,
   "metadata": {},
   "outputs": [],
   "source": [
    "egf = np.array([0.2, 0.4, 1.0, 2.5, 5.0, 10.0, 20.0, 100.0])\n",
    "pegfr = np.array([[1.538, 1.639, 2.355, 1.899, 1.935, 1.790, 1.700, 0.781, 3.072],\n",
    "[2.244, 1.943, 1.395, 1.749, 2.028, 2.039, 2.087, 1.108, 2.858],\n",
    "[1.501, 2.935, 4.037, 5.768, 5.986, 7.527, 6.889, 7.812, 7.490],\n",
    "[2.899, 9.543, 13.878, 18.940, 23.153, 27.694, 28.414, 34.901, 37.434],\n",
    "[2.504, 13.263, 21.242, 31.053, 34.163, 37.691, 36.178, 47.017, 46.832],\n",
    "[2.642, 12.110, 15.855, 28.133, 30.337, 29.640, 32.854, 31.818, 44.066],\n",
    "[2.069, 18.130, 13.089, 24.388, 29.611, 36.226, 32.383, 37.782, 38.338],\n",
    "[1.568, 20.861, 38.950, 38.886, 32.507, 32.372, 31.802, 30.657, 38.321]])"
   ]
  },
  {
   "cell_type": "code",
   "execution_count": null,
   "metadata": {},
   "outputs": [],
   "source": [
    "t0 = 0\n",
    "tf = 80\n",
    "tnum = 9\n",
    "egfLevels = len(egf)\n",
    "\n",
    "def getResidual(model, pars):\n",
    "    model = setParameter(model, pars)\n",
    "    residual = 1\n",
    "    for i in range(egfLevels):\n",
    "        model.reset()\n",
    "        model.E = egf[i]\n",
    "        eq = model.simulate(t0, tf, tnum)\n",
    "        tempSc = np.sqrt(np.sum(((eq[\"[Rp]\"] - pegfr[i])/(0.1 * pegfr[i]))**2) / 9)\n",
    "        residual *= tempSc\n",
    "    residual **= 1/egfLevels\n",
    "    \n",
    "    return residual\n",
    "\n",
    "#def getObs(model, pars):\n",
    "    \n",
    "\n",
    "def setParameter(model, pars):\n",
    "    model.Vr = pars[0]\n",
    "    model.kf1 = pars[1]\n",
    "    model.kf2 = pars[2]\n",
    "    model.ki = pars[3]\n",
    "    model.ke = pars[4]\n",
    "    model.kp = pars[5]\n",
    "    model.kd = pars[6]\n",
    "    model.K1 = pars[7]\n",
    "    model.K2 = pars[8]\n",
    "    model.g1 = pars[9]\n",
    "    model.g2 = pars[10]\n",
    "    model.g3 = pars[11]\n",
    "    model.g4 = pars[12]\n",
    "    model.g5 = pars[13]\n",
    "    model.g6 = pars[14]\n",
    "    model.g7 = pars[15]\n",
    "    return model"
   ]
  },
  {
   "cell_type": "code",
   "execution_count": null,
   "metadata": {},
   "outputs": [],
   "source": [
    "def initial():\n",
    "    k1 = random.gauss(np.log10(0.0016), 0.001)\n",
    "    #k_1 = random.gauss(np.log10(0.004), 0.001)\n",
    "    k_1 = random.uniform(-4, 2)\n",
    "    kt = random.gauss(np.log10(0.0012), 0.001)\n",
    "    ke = random.gauss(np.log10(0.0033), 0.001)\n",
    "    Vr = random.gauss(np.log10(0.0012), 0.001)\n",
    "    kx = random.gauss(np.log10(1), 0.001)\n",
    "    kh = random.gauss(np.log10(0.0004), 0.001)\n",
    "    k2 = random.gauss(np.log10(0.082), 0.001)\n",
    "    k_2 = random.uniform(-4, 2)\n",
    "    k3 = random.gauss(np.log10(1.2), 0.001)\n",
    "    k_3 = random.uniform(-4, 2)\n",
    "    return np.array([k1, k_1, kt, ke, Vr, kx, kh, k2, k_2, k3, k_3])"
   ]
  },
  {
   "cell_type": "code",
   "execution_count": null,
   "metadata": {},
   "outputs": [],
   "source": [
    "def prior(pars):\n",
    "    k1p = sp.stats.norm(np.log10(0.0016), 0.1).pdf(pars[0])\n",
    "    #k_1p = sp.stats.norm(np.log10(0.004), 0.001).pdf(pars[1])\n",
    "    k_1p = 1/6\n",
    "    if pars[1] < -4 or pars[1] > 2:\n",
    "        k_1p = 0\n",
    "    ktp = sp.stats.norm(np.log10(0.0012), 0.1).pdf(pars[2])\n",
    "    kep = sp.stats.norm(np.log10(0.0033), 0.1).pdf(pars[3])\n",
    "    Vrp = sp.stats.norm(np.log10(0.0012), 0.1).pdf(pars[4])\n",
    "    kxp = sp.stats.norm(np.log10(1.0), 0.1).pdf(pars[5])\n",
    "    khp = sp.stats.norm(np.log10(0.0004), 0.1).pdf(pars[6])\n",
    "    k2p = sp.stats.norm(np.log10(0.082), 0.1).pdf(pars[7])\n",
    "    k_2p = 1/6\n",
    "    if pars[8] < -4 or pars[8] > 2:\n",
    "        k_2p = 0\n",
    "    k3p = sp.stats.norm(np.log10(1.2), 0.1).pdf(pars[9])\n",
    "    k_3p = 1/6\n",
    "    if pars[10] < -4 or pars[10] > 2:\n",
    "        k_3p = 0\n",
    "        \n",
    "    return np.prod([k1p, k_1p, ktp, kep, Vrp, kxp, khp, k2p, k_2p, k3p, k_3p])"
   ]
  },
  {
   "cell_type": "code",
   "execution_count": null,
   "metadata": {},
   "outputs": [],
   "source": [
    "def getNewPars(pars):\n",
    "    newPars = pars + np.random.normal(0,0.01,len(pars))\n",
    "    return(newPars)"
   ]
  },
  {
   "cell_type": "code",
   "execution_count": null,
   "metadata": {},
   "outputs": [],
   "source": [
    "#@ray.remote\n",
    "def mcmc(model, steps, burnin, index=0):\n",
    "    curPars = initial()\n",
    "    priorP = prior(curPars)\n",
    "    curPrior = priorP\n",
    "    curFit = getResidual(model, 10 ** curPars)\n",
    "    burninset = []\n",
    "    burninscore = []\n",
    "    gen = 0\n",
    "    while gen < burnin:\n",
    "        newPars = getNewPars(curPars)\n",
    "        priorP = prior(newPars)\n",
    "        if priorP > 0 :\n",
    "            newFit = getResidual(model, 10 ** newPars)\n",
    "            thr = np.exp((curFit - newFit)) * priorP / curPrior\n",
    "            if thr > 1 or np.random.random() < thr :\n",
    "                curPars = newPars\n",
    "                curPrior = priorP\n",
    "                curFit = newFit\n",
    "                burninset.append(curPars)\n",
    "                burninscore.append(curFit)\n",
    "                gen += 1\n",
    "    np.savetxt('burnin-set-' + str(index) + '.txt',np.array(burninset))\n",
    "    np.savetxt('burnin-score-' + str(index) + '.txt',np.array(burninscore))\n",
    "    mcmcset = []\n",
    "    mcmcscore = []\n",
    "    gen = 0\n",
    "    while gen < steps:\n",
    "        newPars = getNewPars(curPars)\n",
    "        priorP = prior(newPars)\n",
    "        if priorP > 0 :\n",
    "            newFit = getResidual(model, 10 ** newPars)\n",
    "            thr = np.exp((curFit - newFit)) * priorP / curPrior\n",
    "            if thr > 1 or np.random.random() < thr :\n",
    "                curPars = newPars\n",
    "                curPrior = priorP\n",
    "                curFit = newFit\n",
    "                mcmcset.append(curPars)\n",
    "                mcmcscore.append(curFit)\n",
    "                gen += 1\n",
    "    np.savetxt('mcmc-set-' + str(index) + '.txt',np.array(mcmcset))\n",
    "    np.savetxt('mcmc-score-' + str(index) + '.txt',np.array(mcmcscore))"
   ]
  },
  {
   "cell_type": "code",
   "execution_count": null,
   "metadata": {},
   "outputs": [],
   "source": [
    "steps = 1000000\n",
    "burnin = 50000\n",
    "#cpuNum = os.cpu_count()\n",
    "#ray.init(num_cpus=cpuNum)\n",
    "#ray.get([mcmc.remote(model,steps,burnin,i) for i in range(cpuNum)])\n",
    "mcmc(model,steps,burnin,0)"
   ]
  },
  {
   "cell_type": "code",
   "execution_count": null,
   "metadata": {},
   "outputs": [],
   "source": []
  }
 ],
 "metadata": {
  "kernelspec": {
   "display_name": "Python 3",
   "language": "python",
   "name": "python3"
  },
  "language_info": {
   "codemirror_mode": {
    "name": "ipython",
    "version": 3
   },
   "file_extension": ".py",
   "mimetype": "text/x-python",
   "name": "python",
   "nbconvert_exporter": "python",
   "pygments_lexer": "ipython3",
   "version": "3.7.9"
  }
 },
 "nbformat": 4,
 "nbformat_minor": 4
}
