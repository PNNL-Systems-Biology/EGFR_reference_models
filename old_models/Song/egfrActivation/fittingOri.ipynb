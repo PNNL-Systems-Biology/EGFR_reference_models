{
 "cells": [
  {
   "cell_type": "code",
   "execution_count": 1,
   "metadata": {},
   "outputs": [],
   "source": [
    "import os\n",
    "import sys\n",
    "import matplotlib.pyplot as plt\n",
    "\n",
    "from datetime import datetime\n",
    "import random, operator, csv\n",
    "import numpy as np\n",
    "import scipy as sp\n",
    "import pandas as pd\n",
    "import seaborn as sn\n",
    "#import ray#, psutil\n",
    "from multiprocessing import Pool\n",
    "\n",
    "import tellurium as te"
   ]
  },
  {
   "cell_type": "code",
   "execution_count": 2,
   "metadata": {},
   "outputs": [],
   "source": [
    "with open(\"egfrActivation.sb\") as f:\n",
    "    egfrActivationModel = f.read()\n",
    "\n",
    "model = te.loada(egfrActivationModel)\n",
    "species = model.getFloatingSpeciesIds()\n",
    "#model.reset()"
   ]
  },
  {
   "cell_type": "code",
   "execution_count": 3,
   "metadata": {},
   "outputs": [],
   "source": [
    "egf = np.array([0.2, 0.4, 1.0, 2.5, 5.0, 10.0, 20.0, 100.0])\n",
    "pegfr = np.array([[1.538, 1.639, 2.355, 1.899, 1.935, 1.790, 1.700, 0.781, 3.072],\n",
    "[2.244, 1.943, 1.395, 1.749, 2.028, 2.039, 2.087, 1.108, 2.858],\n",
    "[1.501, 2.935, 4.037, 5.768, 5.986, 7.527, 6.889, 7.812, 7.490],\n",
    "[2.899, 9.543, 13.878, 18.940, 23.153, 27.694, 28.414, 34.901, 37.434],\n",
    "[2.504, 13.263, 21.242, 31.053, 34.163, 37.691, 36.178, 47.017, 46.832],\n",
    "[2.642, 12.110, 15.855, 28.133, 30.337, 29.640, 32.854, 31.818, 44.066],\n",
    "[2.069, 18.130, 13.089, 24.388, 29.611, 36.226, 32.383, 37.782, 38.338],\n",
    "[1.568, 20.861, 38.950, 38.886, 32.507, 32.372, 31.802, 30.657, 38.321]])"
   ]
  },
  {
   "cell_type": "code",
   "execution_count": 4,
   "metadata": {},
   "outputs": [],
   "source": [
    "t0 = 0\n",
    "tf = 80\n",
    "tnum = 9\n",
    "egfLevels = len(egf)\n",
    "\n",
    "def getResidual(pars, model = model):\n",
    "    model = setParameter(model, pars)\n",
    "    residual = 1\n",
    "    for i in range(egfLevels):\n",
    "        model.reset()\n",
    "        model.E = egf[i]\n",
    "        eq = model.simulate(t0, tf, tnum)\n",
    "        tempSc = np.sqrt(np.sum(((eq[\"[Rp]\"] - pegfr[i])/(0.1 * pegfr[i]))**2) / 9)\n",
    "        residual *= tempSc\n",
    "    residual **= 1/egfLevels\n",
    "    \n",
    "    return residual\n",
    "\n",
    "#def getObs(model, pars):\n",
    "    \n",
    "\n",
    "def setParameter(model, pars):\n",
    "    model.k1 = pars[0]\n",
    "    model.k_1 = pars[1]\n",
    "    model.kt = pars[2]\n",
    "    model.ke = pars[3]\n",
    "    model.Vr = pars[4]\n",
    "    model.kx = pars[5]\n",
    "    model.kh = pars[6]\n",
    "    model.k2 = pars[7]\n",
    "    model.k_2 = pars[8]\n",
    "    model.k3 = pars[9]\n",
    "    model.k_3 = pars[10]\n",
    "    return model"
   ]
  },
  {
   "cell_type": "code",
   "execution_count": 5,
   "metadata": {},
   "outputs": [],
   "source": [
    "def getTempLin(lin,prob,scaler):\n",
    "    dims = lin.shape\n",
    "    tempLin = []\n",
    "    for i in range(dims[0]):\n",
    "        tempi = []\n",
    "        randi = random.randrange(dims[1])\n",
    "        choices = random.sample(range(dims[0]),3)\n",
    "        while i in choices:\n",
    "            choices = random.sample(range(dims[0]),3)\n",
    "        for j in range(dims[1]):\n",
    "            if random.random() < prob or j == randi :\n",
    "                newPar = lin[choices[0],j] + scaler * (lin[choices[1],j] - lin[choices[2],j])\n",
    "                if newPar < -4 or newPar > 2:\n",
    "                    newPar = random.uniform(-8, 8)\n",
    "                tempi.append(newPar)\n",
    "            else:\n",
    "                tempi.append(lin[i,j])\n",
    "        tempLin.append(tempi)\n",
    "    return(np.array(tempLin))"
   ]
  },
  {
   "cell_type": "code",
   "execution_count": 6,
   "metadata": {},
   "outputs": [],
   "source": [
    "#pool = Pool(processes=4)"
   ]
  },
  {
   "cell_type": "code",
   "execution_count": 7,
   "metadata": {},
   "outputs": [],
   "source": [
    "#pool.close()"
   ]
  },
  {
   "cell_type": "code",
   "execution_count": 8,
   "metadata": {},
   "outputs": [],
   "source": [
    "gen = 0\n",
    "batchsize = 12\n",
    "genNum = 1000000\n",
    "epoch = 10000\n",
    "interval = 1000\n",
    "scaling = 0.9\n",
    "error = 1.0e32\n",
    "threshold = 0.1\n",
    "trackfile = \"tracking.csv\"\n",
    "moniterfile = \"monitor.csv\""
   ]
  },
  {
   "cell_type": "code",
   "execution_count": 9,
   "metadata": {},
   "outputs": [],
   "source": [
    "lin3 = []\n",
    "lineages = []\n",
    "for i in range(batchsize):\n",
    "    iLin3 = np.random.uniform(-4, 2, 3)\n",
    "    lin3.append(iLin3)\n",
    "    lineages.append(np.array([0.0016, iLin3[0], 0.0012, 0.0033, \n",
    "                         0.242, 1, 0.0004, 0.082, iLin3[1], 1.2, iLin3[2]]))\n",
    "lin3 = np.array(lin3)\n",
    "lineages = np.array(lineages)"
   ]
  },
  {
   "cell_type": "code",
   "execution_count": 10,
   "metadata": {},
   "outputs": [
    {
     "data": {
      "text/plain": [
       "[9.842127021836136,\n",
       " 9.783177549313955,\n",
       " 9.984518642525922,\n",
       " 9.894190088521876,\n",
       " 9.80937022804237,\n",
       " 9.996802521374734,\n",
       " 9.967965741888621,\n",
       " 9.995361088057855,\n",
       " 9.777817798110846,\n",
       " 9.786033717986182,\n",
       " 9.895481882743418,\n",
       " 9.780388542438464]"
      ]
     },
     "execution_count": 10,
     "metadata": {},
     "output_type": "execute_result"
    }
   ],
   "source": [
    "scores = [getResidual(10 ** iLin) for iLin in lineages]\n",
    "scores"
   ]
  },
  {
   "cell_type": "code",
   "execution_count": null,
   "metadata": {},
   "outputs": [],
   "source": [
    "count = 0\n",
    "while gen <= genNum or error > threshold:\n",
    "    crossProb = 0.25 * ( 2 - random.random() )\n",
    "    tempLin3 = getTempLin(lin3,crossProb,scaling)\n",
    "    tempLin = np.array([[0.0016, iLin3[0], 0.0012, 0.0033, \n",
    "                         0.242, 1, 0.0004, 0.082, iLin3[1], \n",
    "                         1.2, iLin3[2]] for iLin3 in tempLin3])\n",
    "    tempScores = [getResidual(10 ** iLin) for iLin in tempLin]\n",
    "\n",
    "    for i in range(batchsize):\n",
    "        if tempScores[i] < scores[i]:\n",
    "            scores[i] = tempScores[i]\n",
    "            lineages[i] = tempLin[i]\n",
    "            lin3[i] = tempLin3[i]\n",
    "            count += 1\n",
    "    bestindex, bestfit = min(enumerate(scores), key=operator.itemgetter(1))\n",
    "\n",
    "    if bestfit < error:\n",
    "        error = bestfit\n",
    "        with open(trackfile, 'a') as output:\n",
    "            writer = csv.writer(output)\n",
    "            writer.writerow([gen, bestfit] + lin3[bestindex].tolist())\n",
    "    if gen % interval == 0:\n",
    "        with open(moniterfile, 'a') as output:\n",
    "            writer = csv.writer(output)\n",
    "            writer.writerow([str(datetime.now()), gen, bestfit, np.mean(scores), count, np.amin(tempScores), np.mean(tempScores)])\n",
    "        count = 0\n",
    "\n",
    "    gen += 1"
   ]
  },
  {
   "cell_type": "code",
   "execution_count": null,
   "metadata": {},
   "outputs": [],
   "source": []
  }
 ],
 "metadata": {
  "kernelspec": {
   "display_name": "Python 3",
   "language": "python",
   "name": "python3"
  },
  "language_info": {
   "codemirror_mode": {
    "name": "ipython",
    "version": 3
   },
   "file_extension": ".py",
   "mimetype": "text/x-python",
   "name": "python",
   "nbconvert_exporter": "python",
   "pygments_lexer": "ipython3",
   "version": "3.7.9"
  }
 },
 "nbformat": 4,
 "nbformat_minor": 4
}
